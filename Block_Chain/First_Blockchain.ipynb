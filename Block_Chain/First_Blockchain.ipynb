{
 "cells": [
  {
   "cell_type": "code",
   "execution_count": 1,
   "metadata": {
    "collapsed": true
   },
   "outputs": [],
   "source": [
    "# Module 1 - Create a Blockchain\n",
    "\n",
    "# Import the libraries\n",
    "import datetime\n",
    "import hashlib\n",
    "import json\n",
    "from flask import Flask, jsonify"
   ]
  },
  {
   "cell_type": "code",
   "execution_count": 2,
   "metadata": {},
   "outputs": [],
   "source": [
    "## Part 1 - Building a Blockchain\n",
    "\n",
    "class Blockchain:\n",
    "    \n",
    "    def __init__(self):\n",
    "        self.chain = []\n",
    "        self.create_block(proof = 1, previous_hash = '0')\n",
    "    \n",
    "    def create_block(self, proof, previous_hash):\n",
    "        block = {\"index\": len(self.chain) + 1,\n",
    "                \"timestamp\": str(datetime.datetime.now()),\n",
    "                \"proof\": proof,\n",
    "                \"previous_hash\": previous_hash}\n",
    "        \n",
    "        self.chain.append(block)\n",
    "        return block\n",
    "    \n",
    "    def get_previous_block(self):\n",
    "        return self.chain[-1]\n",
    "     \n",
    "    def proof_of_work(self, previous_proof):\n",
    "        new_proof = 1\n",
    "        check_proof = False\n",
    "        while check_proof is False:\n",
    "            hash_operation = hashlib.sha256(str((new_proof**2 - previous_proof**2).encode()).hexdigest())\n",
    "            if hash_operations[:4] == '0000':\n",
    "                check_proof = True\n",
    "            else:\n",
    "                new_proof += 1\n",
    "                \n",
    "        return new_proof\n",
    "    \n",
    "    def hash(self, block):\n",
    "        encoded_block = json.dumps(block, sort_keys = True).encode()\n",
    "        return hashlib.sha256(encoded_block).hexdigest()\n",
    "            \n",
    "    def is_chain_valid(self, chain):\n",
    "        previous_block = chain[0]\n",
    "        block_index = 1\n",
    "        while block_index < len(chain):\n",
    "            block = chain[block_index]\n",
    "            if block[\"previous_hash\"] != self.hash(previous_block):\n",
    "                return False\n",
    "            previous_proof = previous_block[\"proof\"]\n",
    "            proof = block[\"proof\"]\n",
    "            hash_operation = hashlib.sha256(str((proof**2 - previous_proof**2).encode()).hexdigest())\n",
    "            if hash_operation[:4] != \"0000\":\n",
    "                return False\n",
    "            previous_block = block\n",
    "            block_index += 1\n",
    "        \n",
    "        return True"
   ]
  },
  {
   "cell_type": "code",
   "execution_count": 3,
   "metadata": {},
   "outputs": [],
   "source": [
    "## Part 2 - Mining our Blockchain\n",
    "\n",
    "# Creating a Web App\n",
    "\n",
    "from flask import Flask\n",
    "app = Flask(__name__)\n",
    "\n",
    "# Creating a Blockchain\n",
    "\n",
    "blockchain = Blockchain()\n",
    "\n",
    "# Mining a new block\n",
    "@app.route(\"/mine_block\", methods = [\"GET\"])\n",
    "def mine_block():\n",
    "    previous_block = blockchain.get_previous_block()\n",
    "    previous_proof = previous_block[\"proof\"]\n",
    "    proof = blockchain.proof_of_work(previous_proof)\n",
    "    previous_hash = blockchain.hash(previous_block)\n",
    "    block = blockchain.create_block(proof, previous_hash)\n",
    "    response = {\"message\": \"Congratulations, you just mined a block!\",\n",
    "               \"index\": block['index'],\n",
    "               \"timestamp\": block[\"timestamp\"],\n",
    "               \"proof\": block[\"proof\"],\n",
    "               \"previous_hash\": block[\"previous_hash\"]}\n",
    "    \n",
    "    return jsonfy(response), 200"
   ]
  },
  {
   "cell_type": "code",
   "execution_count": 4,
   "metadata": {
    "collapsed": true
   },
   "outputs": [],
   "source": [
    "# Getting the full Blockchain\n",
    "\n",
    "@app.route(\"/get_chain\", methods = [\"GET\"])\n",
    "def get_chain():\n",
    "    response = {\"chain\": blockchain.chain,\n",
    "               \"length\": len(blockchain.chain)}\n",
    "    return jsonfy(response), 200"
   ]
  },
  {
   "cell_type": "code",
   "execution_count": null,
   "metadata": {},
   "outputs": [
    {
     "name": "stderr",
     "output_type": "stream",
     "text": [
      " * Running on http://0.0.0.0:5000/ (Press CTRL+C to quit)\n",
      "[2018-09-11 21:55:34,442] ERROR in app: Exception on /get_chain [GET]\n",
      "Traceback (most recent call last):\n",
      "  File \"C:\\Users\\User\\Anaconda3\\lib\\site-packages\\flask\\app.py\", line 1982, in wsgi_app\n",
      "    response = self.full_dispatch_request()\n",
      "  File \"C:\\Users\\User\\Anaconda3\\lib\\site-packages\\flask\\app.py\", line 1614, in full_dispatch_request\n",
      "    rv = self.handle_user_exception(e)\n",
      "  File \"C:\\Users\\User\\Anaconda3\\lib\\site-packages\\flask\\app.py\", line 1517, in handle_user_exception\n",
      "    reraise(exc_type, exc_value, tb)\n",
      "  File \"C:\\Users\\User\\Anaconda3\\lib\\site-packages\\flask\\_compat.py\", line 33, in reraise\n",
      "    raise value\n",
      "  File \"C:\\Users\\User\\Anaconda3\\lib\\site-packages\\flask\\app.py\", line 1612, in full_dispatch_request\n",
      "    rv = self.dispatch_request()\n",
      "  File \"C:\\Users\\User\\Anaconda3\\lib\\site-packages\\flask\\app.py\", line 1598, in dispatch_request\n",
      "    return self.view_functions[rule.endpoint](**req.view_args)\n",
      "  File \"<ipython-input-4-f32dc3ab43e8>\", line 7, in get_chain\n",
      "    return jsonfy(response), 200\n",
      "NameError: name 'jsonfy' is not defined\n",
      "127.0.0.1 - - [11/Sep/2018 21:55:34] \"\u001b[1m\u001b[35mGET /get_chain HTTP/1.1\u001b[0m\" 500 -\n",
      "[2018-09-11 21:56:06,273] ERROR in app: Exception on /get_chain [GET]\n",
      "Traceback (most recent call last):\n",
      "  File \"C:\\Users\\User\\Anaconda3\\lib\\site-packages\\flask\\app.py\", line 1982, in wsgi_app\n",
      "    response = self.full_dispatch_request()\n",
      "  File \"C:\\Users\\User\\Anaconda3\\lib\\site-packages\\flask\\app.py\", line 1614, in full_dispatch_request\n",
      "    rv = self.handle_user_exception(e)\n",
      "  File \"C:\\Users\\User\\Anaconda3\\lib\\site-packages\\flask\\app.py\", line 1517, in handle_user_exception\n",
      "    reraise(exc_type, exc_value, tb)\n",
      "  File \"C:\\Users\\User\\Anaconda3\\lib\\site-packages\\flask\\_compat.py\", line 33, in reraise\n",
      "    raise value\n",
      "  File \"C:\\Users\\User\\Anaconda3\\lib\\site-packages\\flask\\app.py\", line 1612, in full_dispatch_request\n",
      "    rv = self.dispatch_request()\n",
      "  File \"C:\\Users\\User\\Anaconda3\\lib\\site-packages\\flask\\app.py\", line 1598, in dispatch_request\n",
      "    return self.view_functions[rule.endpoint](**req.view_args)\n",
      "  File \"<ipython-input-4-f32dc3ab43e8>\", line 7, in get_chain\n",
      "    return jsonfy(response), 200\n",
      "NameError: name 'jsonfy' is not defined\n",
      "127.0.0.1 - - [11/Sep/2018 21:56:06] \"\u001b[1m\u001b[35mGET /get_chain HTTP/1.1\u001b[0m\" 500 -\n"
     ]
    }
   ],
   "source": [
    "# Running the app\n",
    "\n",
    "app.run(host = \"0.0.0.0\", port = 5000)"
   ]
  },
  {
   "cell_type": "code",
   "execution_count": null,
   "metadata": {
    "collapsed": true
   },
   "outputs": [],
   "source": []
  }
 ],
 "metadata": {
  "kernelspec": {
   "display_name": "Python 3",
   "language": "python",
   "name": "python3"
  },
  "language_info": {
   "codemirror_mode": {
    "name": "ipython",
    "version": 3
   },
   "file_extension": ".py",
   "mimetype": "text/x-python",
   "name": "python",
   "nbconvert_exporter": "python",
   "pygments_lexer": "ipython3",
   "version": "3.6.3"
  }
 },
 "nbformat": 4,
 "nbformat_minor": 2
}
